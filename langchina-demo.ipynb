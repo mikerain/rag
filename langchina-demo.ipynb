{
 "cells": [
  {
   "cell_type": "code",
   "execution_count": 2,
   "metadata": {},
   "outputs": [],
   "source": [
    "from langchain_community.llms import Ollama\n",
    "from langchain_community.document_loaders import PyPDFLoader\n",
    "from langchain.prompts import PromptTemplate\n",
    "from langchain_community.vectorstores import DocArrayInMemorySearch\n",
    "from langchain_community.embeddings import OllamaEmbeddings\n",
    "from langchain_core.output_parsers import StrOutputParser\n",
    "from langchain_core.runnables import RunnablePassthrough"
   ]
  },
  {
   "cell_type": "code",
   "execution_count": 5,
   "metadata": {},
   "outputs": [
    {
     "name": "stdout",
     "output_type": "stream",
     "text": [
      "\n",
      "{'source': 'ETX-AI.pdf', 'page': 0}\n"
     ]
    }
   ],
   "source": [
    "#1 加载 PDF 文件\n",
    "pdf_path = \"ETX-AI.pdf\"\n",
    "loader = PyPDFLoader(pdf_path)\n",
    "docs = loader.load()\n",
    "\n",
    "print(docs[0].page_content[0:100])\n",
    "print(docs[0].metadata)\n",
    "# 打印提取的文档内容（仅前几页的内容）\n",
    "# for doc in documents[:7]:\n",
    "#     print(doc.page_content)"
   ]
  },
  {
   "cell_type": "code",
   "execution_count": 6,
   "metadata": {},
   "outputs": [
    {
     "name": "stderr",
     "output_type": "stream",
     "text": [
      "/usr/local/lib/python3.12/site-packages/pydantic/_migration.py:283: UserWarning: `pydantic.error_wrappers:ValidationError` has been moved to `pydantic:ValidationError`.\n",
      "  warnings.warn(f'`{import_path}` has been moved to `{new_location}`.')\n"
     ]
    }
   ],
   "source": [
    "# 1. Create the model\n",
    "llm = Ollama(model='llama3.2:latest')\n",
    "embeddings = OllamaEmbeddings(model='znbang/bge:small-en-v1.5-f32')\n",
    "\n",
    "# 2. Load the PDF file and create a retriever to be used for providing context\n",
    "# loader = PyPDFLoader(argv[1])\n",
    "# pages = loader.load_and_split()\n",
    "store = DocArrayInMemorySearch.from_documents(docs, embedding=embeddings)\n",
    "retriever = store.as_retriever()\n",
    "\n",
    "#"
   ]
  },
  {
   "cell_type": "code",
   "execution_count": 7,
   "metadata": {},
   "outputs": [
    {
     "data": {
      "text/plain": [
       "'To confirm if your registration was received, you should check your inbox for confirmation emails throughout the registration process. If you do not receive these confirmation emails, please contact Katie Day (kday@redhat.com) for status updates.'"
      ]
     },
     "execution_count": 7,
     "metadata": {},
     "output_type": "execute_result"
    }
   ],
   "source": [
    " #3. Create the prompt template\n",
    "template = \"\"\"\n",
    "Answer the question based only on the context provided.\n",
    "\n",
    "Context: {context}\n",
    "\n",
    "Question: {question}\n",
    "\"\"\"\n",
    "\n",
    "prompt = PromptTemplate.from_template(template)\n",
    "\n",
    "def format_docs(docs):\n",
    "  return \"\\n\\n\".join(doc.page_content for doc in docs)\n",
    "\n",
    "# 4. Build the chain of operations\n",
    "chain = (\n",
    "  {\n",
    "    'context': retriever | format_docs,\n",
    "    'question': RunnablePassthrough(),\n",
    "  }\n",
    "  | prompt\n",
    "  | llm\n",
    "  | StrOutputParser()\n",
    ")\n",
    "\n",
    "question = \"what is about ETX AI pilot?\"\n",
    "chain.invoke({'question': question})\n",
    "# 5. Start asking questions and getting answers in a loop\n",
    "# while True:\n",
    "#   question = input('What do you want to learn from the document?\\n')\n",
    "#   print()\n",
    "#   print(chain.invoke({'question': question}))\n",
    "#   print()"
   ]
  }
 ],
 "metadata": {
  "kernelspec": {
   "display_name": "Python 3",
   "language": "python",
   "name": "python3"
  },
  "language_info": {
   "codemirror_mode": {
    "name": "ipython",
    "version": 3
   },
   "file_extension": ".py",
   "mimetype": "text/x-python",
   "name": "python",
   "nbconvert_exporter": "python",
   "pygments_lexer": "ipython3",
   "version": "3.12.3"
  }
 },
 "nbformat": 4,
 "nbformat_minor": 2
}
